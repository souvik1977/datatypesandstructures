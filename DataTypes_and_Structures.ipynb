{
  "nbformat": 4,
  "nbformat_minor": 0,
  "metadata": {
    "colab": {
      "provenance": []
    },
    "kernelspec": {
      "name": "python3",
      "display_name": "Python 3"
    },
    "language_info": {
      "name": "python"
    }
  },
  "cells": [
    {
      "cell_type": "code",
      "execution_count": null,
      "metadata": {
        "id": "SDjdGKnDAbRd"
      },
      "outputs": [],
      "source": []
    },
    {
      "cell_type": "markdown",
      "source": [
        "**Data Types and Structures Questions and Answers**\n",
        "1. What are data structures, and why are they important?\n",
        "   - Fundamental ways of ogranize and store data, including lists, tuples, dictionaries and sets. Data structures optimizing data access and manipulation for efficient programming. They are important as they enable developers to to manage data effectively, enhancing code reliability, make the maintainance of the data easy and increase performance.\n",
        "\n",
        "2. Explain the difference between mutable and immutable data types with examples?\n",
        "   - Immutable data types are all premitive python data types like strings, int, boolean, float, tuple. These immutable data types cannot be changed after it is created.\n",
        "\n",
        "   Mutable data types can be changed after creation of that object. Examples of mutable data types are lists, dictionaries, sets.\n",
        "\n",
        "3. What are the main differences between lists and tuples in Python?\n",
        "   -\n",
        "   A. List is non-premitive data type which is mutable in nature where tuple is a primitive data type which is immutable in nature\n",
        "   B. A blank list can be created by using the [] which will initialize a list object. Where to create an empty tuple we need to use ().\n",
        "   C. Lists are good for dynamic collection of data where Tuples are good for fixed collection of data.\n",
        "\n",
        "4. Describe how dictionaries store data?\n",
        "   - Dictionaries stores data in key-value pair. Key and values are separated by colon (:). Items stored into a dictionary are ordered and get be retrived in the same order it got stored.\n",
        "  \n",
        "5. Why might you use a set instead of a list in Python?\n",
        "   - A list may contains duplicate values and store data in ordered manner, however a set is an un-ordered list which consider only unique values. Sets are mainly useful for those scenarios where data duplication may cause problems to solve specific issue.\n",
        "\n",
        "6. What is a string in Python, and how is it different from a list?\n",
        "  - String is a primitive data type in python which is an ordered collection of Unicode characters defines with single or double quote. Where as list is an ordered collection of heterogenous data (int, float, complex number, string etc).\n",
        "\n",
        "7. How do tuples ensure data integrity in Python?\n",
        "  - Tupples are immutable to ensure that their contents are unchangeable once created ensure data integrity.\n",
        "\n",
        "8. What is a hash table, and how does it relate to dictionaries in Python?\n",
        "  - Hash tables stores data in key-value pairs and keys are generated using he hash function. Hash tables in python are implemented through built-in dictrionary data types.\n",
        "\n",
        "9. Can lists contain different data types in Python?\n",
        " - Yes lists can contains heterogenous data types like int, float, complex, strings etc.\n",
        "\n",
        "10. Explain why strings are immutable in Python?\n",
        "  - Strings are primitive data types and by nature stringsa re immutable in nature. Once created, string objects can't be changed. Example: S = \"Souvik\" and now if we will try s[0] = 'K'; it will throw an error.\n",
        "\n",
        "11. What advantages do dictionaries offer over lists for certain tasks?\n",
        "  - Dictionaries stores data in key-value pair and we can use dictionary within dictionary or lists with in dictionary to store complex format data. For an example to create a student record, dictionary will be more useful to store all relevant data within a single data structure where we need to use multiple lists to store same data which will increase computational, data retrieval complexities significantly.\n",
        "\n",
        "12. Describe a scenario where using a tuple would be preferable over a list?\n",
        "  - Scenario's where we don't need to change data once created. For example consider a resturant menu system where prices are not getting change in every occurance. It provides better memory management than lists (as lists are mutable and some additional steps need to be taken to manage the memory) and makes it faster.\n",
        "\n",
        "13. How do sets handle duplicate values in Python?\n",
        "  - Sets implemented through hash table. Duplicate values are havign same hash hence ignored by set.\n",
        "\n",
        "14. How does the “in” keyword work differently for lists and dictionaries?\n",
        " - 'In' membership operator checks for a 'value' within a list where as checks for a 'key' within in a dictionary.\n",
        " Ex:\n",
        "    #Defining a list\n",
        "    myList = ['Souvik', 'Kolkata', 47, 'Manager']\n",
        "    # Defining a Dictionary\n",
        "    myDict = {'name': 'Souvik', 'City': 'Kolkata', 'Age': 47\n",
        "    print('Kolkata' in myList)  -> Returns true\n",
        "    print('Kolkata' in myDict)  -> Returns false\n",
        "\n",
        "15. Can you modify the elements of a tuple? Explain why or why not?\n",
        "  - No. Tuples are immutable data types.\n",
        "\n",
        "16. What is a nested dictionary, and give an example of its use case?\n",
        "  - A nested dictionary is a dictionary within another dictionary. For an example consider a employee record that contains details of many employee and respective employee details can be a dictionary within the employee record.\n",
        "  Ex:\n",
        "  emp_rec = {\n",
        "    'E01': {'name': 'John Doe', 'Dept': 'Marketing', 'Salary': 75000},\n",
        "    'E02': {'name': 'John Right', 'Dept': 'Sales', 'Salary': 65000} # child dictionary\n",
        "  } #parent dictionary\n",
        "\n",
        "17. Describe the time complexity of accessing elements in a dictionary?\n",
        "  - Dictionaries in python are implemented through hash-tables and provides efficient key-value lookups. The time complexity depends on the search operation where it is only the key lookup, value lookup or iteration over items.\n",
        "  \n",
        "  Keys are hashed and stored into a separate bucket which is easier to lookup where as values are not hashed and python has to check all values to determine wheather the value exists or not, takes longer time than key search.\n",
        "\n",
        "\n",
        "18. In what situations are lists preferred over dictionaries?\n",
        "  - Lists are ordered collection of mutable data which can also used as stack or queues for various operations. Where as dictionaries are key-value pairs which are mainly useful for complex types of data to store, example employee records which might contains multiple different types of information.\n",
        "\n",
        "19. Why are dictionaries considered unordered, and how does that affect data retrieval?\n",
        "  - Python versions prior to 3.7 were stored dictionary data in unordered way. That means while retriving, dictionaries can return data in the different order in which those got inserted.\n",
        "  However from Python 3.7 onward, items are stored in the order they inserted and the iteration will return keys in the order of insertion.\n",
        "\n",
        "20. Explain the difference between a list and a dictionary in terms of data retrieval?\n",
        "  - List datas are retrived in order of insertion and retrieval is index based. Data retrived in sequential order.\n",
        "\n",
        "  Dictionary uses hash-table to retrive data in the form of key, value or items. Python creates hash of 'key' and stored inside a hash table which provides faster search and retrieval mechanism."
      ],
      "metadata": {
        "id": "75p59HRBAlFI"
      }
    },
    {
      "cell_type": "code",
      "source": [
        "# 1. Write a code to create a string with your name and print it.\n",
        "myName = 'Souvik Dhar'\n",
        "print(myName)"
      ],
      "metadata": {
        "colab": {
          "base_uri": "https://localhost:8080/"
        },
        "id": "-gfXmvNWyR0o",
        "outputId": "7c95cc23-1253-4940-fc2c-8564f223de1e"
      },
      "execution_count": 1,
      "outputs": [
        {
          "output_type": "stream",
          "name": "stdout",
          "text": [
            "Souvik Dhar\n"
          ]
        }
      ]
    },
    {
      "cell_type": "code",
      "source": [
        "# 2. Write a code to find the length of the string \"Hello World\".\n",
        "print(len('Hello World'))"
      ],
      "metadata": {
        "colab": {
          "base_uri": "https://localhost:8080/"
        },
        "id": "E2OMrJC_yg3w",
        "outputId": "3596b6ed-a6b0-40f8-db3c-cb3d402808ff"
      },
      "execution_count": 2,
      "outputs": [
        {
          "output_type": "stream",
          "name": "stdout",
          "text": [
            "11\n"
          ]
        }
      ]
    },
    {
      "cell_type": "code",
      "source": [
        "# 3. Write a code to slice the first 3 characters from the string \"Python Programming\".\n",
        "myString = \"Python Programming\"\n",
        "sub_str = myString[:3]\n",
        "print(sub_str)"
      ],
      "metadata": {
        "colab": {
          "base_uri": "https://localhost:8080/"
        },
        "id": "B44l0uyhyrZ3",
        "outputId": "689a20ee-10dd-4491-869b-c0079a208532"
      },
      "execution_count": 3,
      "outputs": [
        {
          "output_type": "stream",
          "name": "stdout",
          "text": [
            "Pyt\n"
          ]
        }
      ]
    },
    {
      "cell_type": "code",
      "source": [
        "# 4. Write a code to convert the string \"hello\" to uppercase.\n",
        "myStr = \"hello\"\n",
        "myStr = myStr.upper()\n",
        "print(myStr)"
      ],
      "metadata": {
        "colab": {
          "base_uri": "https://localhost:8080/"
        },
        "id": "dtXG-Nm4y8NK",
        "outputId": "8823d7bf-048b-4bdc-ecad-c9e84927b4d3"
      },
      "execution_count": 4,
      "outputs": [
        {
          "output_type": "stream",
          "name": "stdout",
          "text": [
            "HELLO\n"
          ]
        }
      ]
    },
    {
      "cell_type": "code",
      "source": [
        "# 5. Write a code to replace the word \"apple\" with \"orange\" in the string \"I like apple\".\n",
        "myStr = \"I like apple\"\n",
        "print(f\"Before: \" + myStr)\n",
        "myStr = myStr.replace('apple', 'orange')\n",
        "print(f\"After: \" + myStr)"
      ],
      "metadata": {
        "colab": {
          "base_uri": "https://localhost:8080/"
        },
        "id": "5S4ExQXBzOn1",
        "outputId": "f8759a01-cc88-4058-d90f-172d93fb1b12"
      },
      "execution_count": 6,
      "outputs": [
        {
          "output_type": "stream",
          "name": "stdout",
          "text": [
            "Before: I like apple\n",
            "After: I like orange\n"
          ]
        }
      ]
    },
    {
      "cell_type": "code",
      "source": [
        "# 6. Write a code to create a list with numbers 1 to 5 and print it\n",
        "myL = []\n",
        "for i in range(1,6):\n",
        "    myL.append(i)\n",
        "\n",
        "print(myL)"
      ],
      "metadata": {
        "colab": {
          "base_uri": "https://localhost:8080/"
        },
        "id": "ZB5ya3-rzuER",
        "outputId": "ae494313-f40b-486b-f665-fb1ad45fb1ba"
      },
      "execution_count": 7,
      "outputs": [
        {
          "output_type": "stream",
          "name": "stdout",
          "text": [
            "[1, 2, 3, 4, 5]\n"
          ]
        }
      ]
    },
    {
      "cell_type": "code",
      "source": [
        "# 7. Write a code to append the number 10 to the list [1, 2, 3, 4].\n",
        "myL = [1, 2, 3, 4]\n",
        "print(f\"Before: \" + str(myL))\n",
        "myL.append(10)\n",
        "print(f\"After: \" + str(myL))"
      ],
      "metadata": {
        "colab": {
          "base_uri": "https://localhost:8080/"
        },
        "id": "z2lIwt1y0LHg",
        "outputId": "966cbb8e-df0d-4a4d-878f-5cd018c959d5"
      },
      "execution_count": 9,
      "outputs": [
        {
          "output_type": "stream",
          "name": "stdout",
          "text": [
            "Before: [1, 2, 3, 4]\n",
            "After: [1, 2, 3, 4, 10]\n"
          ]
        }
      ]
    },
    {
      "cell_type": "code",
      "source": [
        "# 8. Write a code to remove the number 3 from the list [1, 2, 3, 4, 5].\n",
        "myL = [1, 2, 3, 4, 5]\n",
        "print(f\"Before: \" + str(myL))\n",
        "myL.remove(3)\n",
        "print(f\"After: \" + str(myL))"
      ],
      "metadata": {
        "colab": {
          "base_uri": "https://localhost:8080/"
        },
        "id": "tLhTFDo30xGt",
        "outputId": "cb03e1b7-7d59-49e2-d5fc-06b7a0eacaeb"
      },
      "execution_count": 12,
      "outputs": [
        {
          "output_type": "stream",
          "name": "stdout",
          "text": [
            "Before: [1, 2, 3, 4, 5]\n",
            "After: [1, 2, 4, 5]\n"
          ]
        }
      ]
    },
    {
      "cell_type": "code",
      "source": [
        "# 9. Write a code to access the second element in the list ['a', 'b', 'c', 'd']?\n",
        "myL = ['a', 'b', 'c', 'd']\n",
        "val = myL[1]\n",
        "print(val)"
      ],
      "metadata": {
        "colab": {
          "base_uri": "https://localhost:8080/"
        },
        "id": "k4C5r1UY1RQU",
        "outputId": "e1b054a6-27b3-48d3-ba38-60119efef370"
      },
      "execution_count": 13,
      "outputs": [
        {
          "output_type": "stream",
          "name": "stdout",
          "text": [
            "b\n"
          ]
        }
      ]
    },
    {
      "cell_type": "code",
      "source": [
        "# 10. Write a code to reverse the list [10, 20, 30, 40, 50]\n",
        "myL= [10, 20, 30, 40, 50]\n",
        "print(f\"Before: \" + str(myL))\n",
        "myL.reverse()\n",
        "print(f\"After Reverse: \" + str(myL))"
      ],
      "metadata": {
        "colab": {
          "base_uri": "https://localhost:8080/"
        },
        "id": "2YplRwiL1raX",
        "outputId": "8053b90d-3fa5-4044-cff1-7c20ed2d56d3"
      },
      "execution_count": 17,
      "outputs": [
        {
          "output_type": "stream",
          "name": "stdout",
          "text": [
            "Before: [10, 20, 30, 40, 50]\n",
            "After Reverse: [50, 40, 30, 20, 10]\n"
          ]
        }
      ]
    },
    {
      "cell_type": "code",
      "source": [
        "# 11.  Write a code to create a tuple with the elements 100, 200, 300 and print it.\n",
        "myT = (100,200,300)\n",
        "print(f\"My Tupple =\" + str(myT))"
      ],
      "metadata": {
        "colab": {
          "base_uri": "https://localhost:8080/"
        },
        "id": "c5OV1qDd3NN5",
        "outputId": "148c70c0-3d49-4370-8b06-886e07477933"
      },
      "execution_count": 18,
      "outputs": [
        {
          "output_type": "stream",
          "name": "stdout",
          "text": [
            "My Tupple =(100, 200, 300)\n"
          ]
        }
      ]
    },
    {
      "cell_type": "code",
      "source": [
        "# 12. Write a code to access the second-to-last element of the tuple ('red', 'green', 'blue', 'yellow').\n",
        "myT = ('red', 'green', 'blue', 'yellow')\n",
        "myV = myT[1:]\n",
        "print(f\"Second to Last elements are :\" + str(myV))"
      ],
      "metadata": {
        "colab": {
          "base_uri": "https://localhost:8080/"
        },
        "id": "qGgk2Tex3cDv",
        "outputId": "f088fda5-625e-4878-8954-a84e54e0286b"
      },
      "execution_count": 20,
      "outputs": [
        {
          "output_type": "stream",
          "name": "stdout",
          "text": [
            "Second to Last elements are :('green', 'blue', 'yellow')\n"
          ]
        }
      ]
    },
    {
      "cell_type": "code",
      "source": [
        "# 13. Write a code to find the minimum number in the tuple (10, 20, 5, 15).\n",
        "myT = (10, 20, 5, 15)\n",
        "min_val = min(myT)\n",
        "print(min_val)"
      ],
      "metadata": {
        "colab": {
          "base_uri": "https://localhost:8080/"
        },
        "id": "OPnFyaY43-wN",
        "outputId": "8810b755-bb8d-4e23-9775-4f9f32f9dd74"
      },
      "execution_count": 37,
      "outputs": [
        {
          "output_type": "stream",
          "name": "stdout",
          "text": [
            "5\n"
          ]
        }
      ]
    },
    {
      "cell_type": "code",
      "source": [
        "# 14. Write a code to find the index of the element \"cat\" in the tuple ('dog', 'cat', 'rabbit')\n",
        "myT = ('dog', 'cat', 'rabbit')\n",
        "myI = myT.index('cat')\n",
        "print(f\"Index number of string 'cat' is \" + str(myI))"
      ],
      "metadata": {
        "colab": {
          "base_uri": "https://localhost:8080/"
        },
        "id": "XyAnsDgXLoFr",
        "outputId": "a1f50772-6a07-46a2-972e-84bf94de229e"
      },
      "execution_count": 38,
      "outputs": [
        {
          "output_type": "stream",
          "name": "stdout",
          "text": [
            "Index number of string 'cat' is 1\n"
          ]
        }
      ]
    },
    {
      "cell_type": "code",
      "source": [
        "# 15. Write a code to create a tuple containing three different fruits and check if \"kiwi\" is in it.\n",
        "myT = ('mango', 'apple', 'jackfruit')\n",
        "'kiwi' in myT"
      ],
      "metadata": {
        "colab": {
          "base_uri": "https://localhost:8080/"
        },
        "id": "LmxB6x0QMB2o",
        "outputId": "3bb82e84-3f79-4180-caa0-bd7fdf939223"
      },
      "execution_count": 39,
      "outputs": [
        {
          "output_type": "execute_result",
          "data": {
            "text/plain": [
              "False"
            ]
          },
          "metadata": {},
          "execution_count": 39
        }
      ]
    },
    {
      "cell_type": "code",
      "source": [
        "# 16. Write a code to create a set with the elements 'a', 'b', 'c' and print it.\n",
        "myS = {'a', 'b', 'c'}\n",
        "print(myS)\n",
        "\n",
        "myS1 = set()\n",
        "myS1.update('a')\n",
        "myS1.update('b')\n",
        "myS1.update('c')\n",
        "print(myS1)"
      ],
      "metadata": {
        "colab": {
          "base_uri": "https://localhost:8080/"
        },
        "id": "M1lJB1JMMS2v",
        "outputId": "1a8c23f4-1c57-46e2-93d7-f35e890a1f82"
      },
      "execution_count": 42,
      "outputs": [
        {
          "output_type": "stream",
          "name": "stdout",
          "text": [
            "{'b', 'a', 'c'}\n",
            "{'b', 'a', 'c'}\n"
          ]
        }
      ]
    },
    {
      "cell_type": "code",
      "source": [
        "# 17. Write a code to clear all elements from the set {1, 2, 3, 4, 5}.\n",
        "myS = {1, 2, 3, 4, 5}\n",
        "print(f\"Before Clearing :\" + str(myS))\n",
        "myS.clear()\n",
        "print(f\"After Clearing :\" + str(myS))"
      ],
      "metadata": {
        "colab": {
          "base_uri": "https://localhost:8080/"
        },
        "id": "_Mnx261RRZ0H",
        "outputId": "8d5ed087-a98b-4bf0-b02d-11a14a9cc366"
      },
      "execution_count": 44,
      "outputs": [
        {
          "output_type": "stream",
          "name": "stdout",
          "text": [
            "Before Clearing :{1, 2, 3, 4, 5}\n",
            "After Clearing :set()\n"
          ]
        }
      ]
    },
    {
      "cell_type": "code",
      "source": [
        "# 18. Write a code to remove the element 4 from the set {1, 2, 3, 4}.\n",
        "myS = {1, 2, 3, 4, 5}\n",
        "print(f\"Before Removing :\" + str(myS))\n",
        "myS.remove(4)\n",
        "print(f\"After Removing :\" + str(myS))"
      ],
      "metadata": {
        "colab": {
          "base_uri": "https://localhost:8080/"
        },
        "id": "e156IGTsR0Ei",
        "outputId": "8d1e8755-b833-4f45-9050-834570a3ab93"
      },
      "execution_count": 45,
      "outputs": [
        {
          "output_type": "stream",
          "name": "stdout",
          "text": [
            "Before Removing :{1, 2, 3, 4, 5}\n",
            "After Removing :{1, 2, 3, 5}\n"
          ]
        }
      ]
    },
    {
      "cell_type": "code",
      "source": [
        "# 19.  Write a code to find the union of two sets {1, 2, 3} and {3, 4, 5}.\n",
        "A = {1, 2, 3}\n",
        "B = {3, 4, 5}\n",
        "print(A.union(B))"
      ],
      "metadata": {
        "colab": {
          "base_uri": "https://localhost:8080/"
        },
        "id": "hoX6OOa6SFb9",
        "outputId": "888e8bfd-b31a-45ca-9d61-cebe9e88cc17"
      },
      "execution_count": 46,
      "outputs": [
        {
          "output_type": "stream",
          "name": "stdout",
          "text": [
            "{1, 2, 3, 4, 5}\n"
          ]
        }
      ]
    },
    {
      "cell_type": "code",
      "source": [
        "# 20. Write a code to find the intersection of two sets {1, 2, 3} and {2, 3, 4}.\n",
        "A = {1, 2, 3}\n",
        "B = {2, 3, 4}\n",
        "print(A.intersection(B))"
      ],
      "metadata": {
        "colab": {
          "base_uri": "https://localhost:8080/"
        },
        "id": "On26Afo8STM6",
        "outputId": "a0ec87ec-8d96-4786-f458-e5e70c0de23a"
      },
      "execution_count": 47,
      "outputs": [
        {
          "output_type": "stream",
          "name": "stdout",
          "text": [
            "{2, 3}\n"
          ]
        }
      ]
    },
    {
      "cell_type": "code",
      "source": [
        "# 21. Write a code to create a dictionary with the keys \"name\", \"age\", and \"city\", and print it.\n",
        "myDict = {\n",
        "    'name': 'Souvik Dhar',\n",
        "    'age': 45,\n",
        "    'city': 'Kolkata'\n",
        "}\n",
        "print(myDict)"
      ],
      "metadata": {
        "colab": {
          "base_uri": "https://localhost:8080/"
        },
        "id": "ciajNDmYShss",
        "outputId": "acf9aee7-1c9c-4ee6-9229-ee3784d3a0ab"
      },
      "execution_count": 48,
      "outputs": [
        {
          "output_type": "stream",
          "name": "stdout",
          "text": [
            "{'name': 'Souvik Dhar', 'age': 45, 'city': 'Kolkata'}\n"
          ]
        }
      ]
    },
    {
      "cell_type": "code",
      "source": [
        "# 22. Write a code to add a new key-value pair \"country\": \"USA\" to the dictionary {'name': 'John', 'age': 25}.\n",
        "myDict = {\n",
        "    'name': 'John',\n",
        "    'age': 25,\n",
        "}\n",
        "print(myDict)\n",
        "\n",
        "# Updating dictionary\n",
        "myDict['country']='USA'\n",
        "print(\"After Updating {}\".format(myDict))"
      ],
      "metadata": {
        "colab": {
          "base_uri": "https://localhost:8080/"
        },
        "id": "7TamYIt9S3dZ",
        "outputId": "f3be200f-75ba-4d94-9eca-bbcc3dce4bf1"
      },
      "execution_count": 53,
      "outputs": [
        {
          "output_type": "stream",
          "name": "stdout",
          "text": [
            "{'name': 'John', 'age': 25}\n",
            "After Updating {'name': 'John', 'age': 25, 'country': 'USA'}\n"
          ]
        }
      ]
    },
    {
      "cell_type": "code",
      "source": [
        "# 23. Write a code to access the value associated with the key \"name\" in the dictionary {'name': 'Alice', 'age': 30}.\n",
        "myDict = {\n",
        " 'name': 'Alice', 'age': 20\n",
        "}\n",
        "for k,v in myDict.items():\n",
        "  if k == 'name':\n",
        "     print(v)\n"
      ],
      "metadata": {
        "colab": {
          "base_uri": "https://localhost:8080/"
        },
        "id": "-rzscwXZTwY5",
        "outputId": "f2c2051d-0103-4f35-a5ad-9ef1da0cdb56"
      },
      "execution_count": 71,
      "outputs": [
        {
          "output_type": "stream",
          "name": "stdout",
          "text": [
            "Alice\n"
          ]
        }
      ]
    },
    {
      "cell_type": "code",
      "source": [
        "# 24. Write a code to remove the key \"age\" from the dictionary {'name': 'Bob', 'age': 22, 'city': 'New York'}.\n",
        "myDict = {'name': 'Bob', 'age': 22, 'city': 'New York'}\n",
        "print(\"Before removing the 'age' key \\n{}\".format(myDict))\n",
        "del myDict['age']\n",
        "print(\"After removing the 'age' key \\n{}\".format(myDict))"
      ],
      "metadata": {
        "colab": {
          "base_uri": "https://localhost:8080/"
        },
        "id": "nL_JU8xoX8By",
        "outputId": "b697fb77-d943-4ed9-8935-80bf3a3ce17e"
      },
      "execution_count": 73,
      "outputs": [
        {
          "output_type": "stream",
          "name": "stdout",
          "text": [
            "Before removing the 'age' key \n",
            "{'name': 'Bob', 'age': 22, 'city': 'New York'}\n",
            "After removing the 'age' key \n",
            "{'name': 'Bob', 'city': 'New York'}\n"
          ]
        }
      ]
    },
    {
      "cell_type": "code",
      "source": [
        "# 25. Write a code to check if the key \"city\" exists in the dictionary {'name': 'Alice', 'city': 'Paris'}.\n",
        "myD = {'name': 'Alice', 'city': 'Paris'}\n",
        "flag = False\n",
        "for k in myD.keys():\n",
        "  if k == 'city':\n",
        "    flag = True\n",
        "\n",
        "if flag == True:\n",
        "  print(\"Key City exists\")\n",
        "else:\n",
        "  print(\"Key City absent\")"
      ],
      "metadata": {
        "colab": {
          "base_uri": "https://localhost:8080/"
        },
        "id": "vVHGuJGx9p3B",
        "outputId": "ad7c5d86-4e20-49d9-dd40-c010e7e0bdbe"
      },
      "execution_count": 2,
      "outputs": [
        {
          "output_type": "stream",
          "name": "stdout",
          "text": [
            "Key City exists\n"
          ]
        }
      ]
    },
    {
      "cell_type": "code",
      "source": [
        "# 26. Write a code to create a list, a tuple, and a dictionary, and print them all.\n",
        "myL = ['Souvik', 'Kolkata', 47, 5.0]\n",
        "myT = ('Donald Trump', 72, 4+5j)\n",
        "myD = {'name': 'Bob', 'age': 22, 'city': 'New York'}\n",
        "\n",
        "print(\"List Items => {}\".format(myL))\n",
        "print(\"Tuple Items => {}\".format(myT))\n",
        "print(\"Dictionary Items => {}\".format(myD))"
      ],
      "metadata": {
        "colab": {
          "base_uri": "https://localhost:8080/"
        },
        "id": "znkzL506-8mJ",
        "outputId": "62c42515-9c65-45e2-db3d-48b8649df662"
      },
      "execution_count": 5,
      "outputs": [
        {
          "output_type": "stream",
          "name": "stdout",
          "text": [
            "List Items => ['Souvik', 'Kolkata', 47, 5.0]\n",
            "Tuple Items => ('Donald Trump', 72, (4+5j))\n",
            "Dictionary Items => {'name': 'Bob', 'age': 22, 'city': 'New York'}\n"
          ]
        }
      ]
    },
    {
      "cell_type": "code",
      "source": [
        "# 27. Write a code to create a list of 5 random numbers between 1 and 100, sort it in ascending order, and print the result.(replaced)\n",
        "import random\n",
        "rand_numbers = random.sample(range(1,100),5)\n",
        "rand_numbers.sort()\n",
        "print(\"List of Random numbers => {}\".format(rand_numbers))"
      ],
      "metadata": {
        "colab": {
          "base_uri": "https://localhost:8080/"
        },
        "id": "FPY8fV2GAIuL",
        "outputId": "193500d0-94f9-40dc-fbde-9221381effb1"
      },
      "execution_count": 8,
      "outputs": [
        {
          "output_type": "stream",
          "name": "stdout",
          "text": [
            "List of Random numbers => [2, 22, 38, 84, 90]\n"
          ]
        }
      ]
    },
    {
      "cell_type": "code",
      "source": [
        "# 28. Write a code to create a list with strings and print the element at the third index.\n",
        "myL = ['Kolkata', 'Mumbai', 'Delhi', 'Jaipur', 'Chennai', 'Bengaluru']\n",
        "print(\"City at index 3 is {}\".format(myL[2]))"
      ],
      "metadata": {
        "colab": {
          "base_uri": "https://localhost:8080/"
        },
        "id": "uzPMnyE_BMmD",
        "outputId": "b8606149-9cbc-49ab-cb7c-18d25bfbd176"
      },
      "execution_count": 9,
      "outputs": [
        {
          "output_type": "stream",
          "name": "stdout",
          "text": [
            "City at index 3 is Delhi\n"
          ]
        }
      ]
    },
    {
      "cell_type": "code",
      "source": [
        "# 29. Write a code to combine two dictionaries into one and print the result.\n",
        "D1 = {'name': 'Souvik', 'city': 'Kolkata'}\n",
        "D2 = {'age': 45}\n",
        "D1.update(D2)\n",
        "print(D1)"
      ],
      "metadata": {
        "colab": {
          "base_uri": "https://localhost:8080/"
        },
        "id": "diJD0DFSBr1j",
        "outputId": "b0e79d6e-55c6-4e98-efdf-9d4dd9521164"
      },
      "execution_count": 18,
      "outputs": [
        {
          "output_type": "stream",
          "name": "stdout",
          "text": [
            "{'name': 'Souvik', 'city': 'Kolkata', 'age': 45}\n"
          ]
        }
      ]
    },
    {
      "cell_type": "code",
      "source": [
        "# 30. Write a code to convert a list of strings into a set.\n",
        "myL = ['Kolkata', 'Mumbai', 'Delhi', 'Jaipur', 'Chennai', 'Bengaluru']\n",
        "\n",
        "print(\"List Items => {}\".format(myL))\n",
        "myS = set()\n",
        "for c in myL:\n",
        "  myS.add(c)\n",
        "\n",
        "\n",
        "print(\"Set Items => {}\".format(myS))"
      ],
      "metadata": {
        "colab": {
          "base_uri": "https://localhost:8080/"
        },
        "id": "BIJt4H2-EBnU",
        "outputId": "c8197bb6-e488-4eee-96bc-cf6cafcde2ae"
      },
      "execution_count": 20,
      "outputs": [
        {
          "output_type": "stream",
          "name": "stdout",
          "text": [
            "List Items => ['Kolkata', 'Mumbai', 'Delhi', 'Jaipur', 'Chennai', 'Bengaluru']\n",
            "Set Items => {'Delhi', 'Mumbai', 'Chennai', 'Bengaluru', 'Jaipur', 'Kolkata'}\n"
          ]
        }
      ]
    }
  ]
}